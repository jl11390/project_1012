{
 "cells": [
  {
   "cell_type": "code",
   "execution_count": 1,
   "metadata": {},
   "outputs": [],
   "source": [
    "import torch \n",
    "from collections.abc import Iterable\n",
    "from datasets import load_dataset, list_datasets\n",
    "\n",
    "# Model and tokenizer from 🤗 Transformers\n",
    "from transformers import AutoModelForSequenceClassification, \\\n",
    "    BertForSequenceClassification, BertTokenizerFast, AutoModel, AutoTokenizer\n",
    "\n",
    "# Code you will write for this assignment\n",
    "from train_model import init_model, preprocess_dataset, init_trainer, preprocess_dataset_hatexplain\n",
    "from test_model import init_tester\n",
    "\n",
    "import numpy as np\n",
    "import pickle"
   ]
  },
  {
   "cell_type": "code",
   "execution_count": 3,
   "metadata": {},
   "outputs": [
    {
     "name": "stderr",
     "output_type": "stream",
     "text": [
      "Found cached dataset hate_speech_offensive (/Users/junzeli/.cache/huggingface/datasets/hate_speech_offensive/default/1.0.0/5f5dfc7b42b5c650fe30a8c49df90b7dbb9c7a4b3fe43ae2e66fabfea35113f5)\n"
     ]
    },
    {
     "data": {
      "application/vnd.jupyter.widget-view+json": {
       "model_id": "127ac1341e2740e785b299ca4f5a3cb7",
       "version_major": 2,
       "version_minor": 0
      },
      "text/plain": [
       "  0%|          | 0/1 [00:00<?, ?it/s]"
      ]
     },
     "metadata": {},
     "output_type": "display_data"
    },
    {
     "name": "stderr",
     "output_type": "stream",
     "text": [
      "Loading cached split indices for dataset at /Users/junzeli/.cache/huggingface/datasets/hate_speech_offensive/default/1.0.0/5f5dfc7b42b5c650fe30a8c49df90b7dbb9c7a4b3fe43ae2e66fabfea35113f5/cache-e8bc8b2108a4c2d9.arrow and /Users/junzeli/.cache/huggingface/datasets/hate_speech_offensive/default/1.0.0/5f5dfc7b42b5c650fe30a8c49df90b7dbb9c7a4b3fe43ae2e66fabfea35113f5/cache-39dae8e28af0c6f7.arrow\n",
      "Loading cached split indices for dataset at /Users/junzeli/.cache/huggingface/datasets/hate_speech_offensive/default/1.0.0/5f5dfc7b42b5c650fe30a8c49df90b7dbb9c7a4b3fe43ae2e66fabfea35113f5/cache-e64f4b624f0c6ff0.arrow and /Users/junzeli/.cache/huggingface/datasets/hate_speech_offensive/default/1.0.0/5f5dfc7b42b5c650fe30a8c49df90b7dbb9c7a4b3fe43ae2e66fabfea35113f5/cache-5be319dd2bb2bceb.arrow\n"
     ]
    }
   ],
   "source": [
    "hate_speech = load_dataset(\"hate_speech_offensive\")\n",
    "split = hate_speech[\"train\"].train_test_split(.2, seed=3463)\n",
    "hate_speech[\"train\"] = split[\"train\"]\n",
    "hate_speech[\"test\"] = split[\"test\"]\n",
    "\n",
    "split = hate_speech[\"train\"].train_test_split(.125, seed=3463)\n",
    "hate_speech[\"train\"] = split[\"train\"]\n",
    "hate_speech[\"val\"] = split[\"test\"]"
   ]
  },
  {
   "cell_type": "code",
   "execution_count": 2,
   "metadata": {},
   "outputs": [
    {
     "name": "stderr",
     "output_type": "stream",
     "text": [
      "Found cached dataset hatexplain (/Users/junzeli/.cache/huggingface/datasets/hatexplain/plain_text/1.0.0/df474d8d8667d89ef30649bf66e9c856ad8305bef4bc147e8e31cbdf1b8e0249)\n"
     ]
    },
    {
     "data": {
      "application/vnd.jupyter.widget-view+json": {
       "model_id": "4db7bdc2d130441e80f35fd720872398",
       "version_major": 2,
       "version_minor": 0
      },
      "text/plain": [
       "  0%|          | 0/3 [00:00<?, ?it/s]"
      ]
     },
     "metadata": {},
     "output_type": "display_data"
    },
    {
     "data": {
      "text/plain": [
       "DatasetDict({\n",
       "    train: Dataset({\n",
       "        features: ['id', 'annotators', 'rationales', 'post_tokens'],\n",
       "        num_rows: 15383\n",
       "    })\n",
       "    validation: Dataset({\n",
       "        features: ['id', 'annotators', 'rationales', 'post_tokens'],\n",
       "        num_rows: 1922\n",
       "    })\n",
       "    test: Dataset({\n",
       "        features: ['id', 'annotators', 'rationales', 'post_tokens'],\n",
       "        num_rows: 1924\n",
       "    })\n",
       "})"
      ]
     },
     "execution_count": 2,
     "metadata": {},
     "output_type": "execute_result"
    }
   ],
   "source": [
    "hatexplain = load_dataset(\"hatexplain\")\n",
    "hatexplain"
   ]
  },
  {
   "cell_type": "code",
   "execution_count": 3,
   "metadata": {},
   "outputs": [
    {
     "name": "stderr",
     "output_type": "stream",
     "text": [
      "emoji is not installed, thus not converting emoticons or emojis into text. Install emoji: pip3 install emoji==0.6.0\n",
      "Special tokens have been added in the vocabulary, make sure the associated word embeddings are fine-tuned or trained.\n"
     ]
    }
   ],
   "source": [
    "tokenizer = AutoTokenizer.from_pretrained(\"vinai/bertweet-base\")"
   ]
  },
  {
   "cell_type": "code",
   "execution_count": 6,
   "metadata": {},
   "outputs": [
    {
     "data": {
      "application/vnd.jupyter.widget-view+json": {
       "model_id": "f913f72415124c61a4db275362c4cc64",
       "version_major": 2,
       "version_minor": 0
      },
      "text/plain": [
       "Map:   0%|          | 0/17347 [00:00<?, ? examples/s]"
      ]
     },
     "metadata": {},
     "output_type": "display_data"
    },
    {
     "data": {
      "application/vnd.jupyter.widget-view+json": {
       "model_id": "31dac8c6b11548489c8bde89463254ad",
       "version_major": 2,
       "version_minor": 0
      },
      "text/plain": [
       "Map:   0%|          | 0/17347 [00:00<?, ? examples/s]"
      ]
     },
     "metadata": {},
     "output_type": "display_data"
    },
    {
     "data": {
      "application/vnd.jupyter.widget-view+json": {
       "model_id": "f986eba9b13642b189d69026808441c9",
       "version_major": 2,
       "version_minor": 0
      },
      "text/plain": [
       "Map:   0%|          | 0/17347 [00:00<?, ? examples/s]"
      ]
     },
     "metadata": {},
     "output_type": "display_data"
    },
    {
     "data": {
      "application/vnd.jupyter.widget-view+json": {
       "model_id": "eb2f9f6ceb4c4a4eac11d3941afdae09",
       "version_major": 2,
       "version_minor": 0
      },
      "text/plain": [
       "Map:   0%|          | 0/2479 [00:00<?, ? examples/s]"
      ]
     },
     "metadata": {},
     "output_type": "display_data"
    },
    {
     "data": {
      "application/vnd.jupyter.widget-view+json": {
       "model_id": "6cc43907ebf9406da86299e3ce00b2ce",
       "version_major": 2,
       "version_minor": 0
      },
      "text/plain": [
       "Map:   0%|          | 0/2479 [00:00<?, ? examples/s]"
      ]
     },
     "metadata": {},
     "output_type": "display_data"
    },
    {
     "data": {
      "application/vnd.jupyter.widget-view+json": {
       "model_id": "a601105359244cbe92c9b287c5aa2efe",
       "version_major": 2,
       "version_minor": 0
      },
      "text/plain": [
       "Map:   0%|          | 0/2479 [00:00<?, ? examples/s]"
      ]
     },
     "metadata": {},
     "output_type": "display_data"
    },
    {
     "data": {
      "application/vnd.jupyter.widget-view+json": {
       "model_id": "10855df5d0aa482f943813c50eeecdbd",
       "version_major": 2,
       "version_minor": 0
      },
      "text/plain": [
       "Map:   0%|          | 0/4957 [00:00<?, ? examples/s]"
      ]
     },
     "metadata": {},
     "output_type": "display_data"
    },
    {
     "data": {
      "application/vnd.jupyter.widget-view+json": {
       "model_id": "c4aaf12c8e884ece836b32a3208d86b5",
       "version_major": 2,
       "version_minor": 0
      },
      "text/plain": [
       "Map:   0%|          | 0/4957 [00:00<?, ? examples/s]"
      ]
     },
     "metadata": {},
     "output_type": "display_data"
    },
    {
     "data": {
      "application/vnd.jupyter.widget-view+json": {
       "model_id": "9156dafff3a448d8b9906f23607cf7c5",
       "version_major": 2,
       "version_minor": 0
      },
      "text/plain": [
       "Map:   0%|          | 0/4957 [00:00<?, ? examples/s]"
      ]
     },
     "metadata": {},
     "output_type": "display_data"
    },
    {
     "name": "stdout",
     "output_type": "stream",
     "text": [
      "count:\n",
      "<class 'list'>\n",
      "[6, 3]\n",
      "\n",
      "hate_speech_count:\n",
      "<class 'list'>\n",
      "[2, 0]\n",
      "\n",
      "offensive_language_count:\n",
      "<class 'list'>\n",
      "[4, 3]\n",
      "\n",
      "neither_count:\n",
      "<class 'list'>\n",
      "[0, 0]\n",
      "\n",
      "class:\n",
      "<class 'list'>\n",
      "[1, 1]\n",
      "\n",
      "tweet:\n",
      "<class 'list'>\n",
      "['RT @realist_iLLest: ', 'Almost done with thi']\n",
      "\n",
      "demo_props:\n",
      "<class 'list'>\n",
      "[[0.26882176380724737, 0.36224836621752143, 0.0058887965306269295, 0.36304107344460435], [0.538484164995624, 0.22799105326083585, 0.005798052499449793, 0.22772672924409032]]\n",
      "\n",
      "labels:\n",
      "<class 'list'>\n",
      "[1, 1]\n",
      "\n",
      "input_ids:\n",
      "<class 'list'>\n",
      "[[0, 246, 5238, 3320, 10987, 524, 510, 7310, 2110, 22, 19295, 33123, 1981, 17742, 5238, 44662, 864, 31959, 22, 2443], [0, 4267, 270, 30, 33, 397, 245, 551, 639, 28, 2, 1, 1, 1, 1, 1, 1, 1, 1, 1]]\n",
      "\n",
      "token_type_ids:\n",
      "<class 'list'>\n",
      "[[0, 0, 0, 0, 0, 0, 0, 0, 0, 0, 0, 0, 0, 0, 0, 0, 0, 0, 0, 0], [0, 0, 0, 0, 0, 0, 0, 0, 0, 0, 0, 0, 0, 0, 0, 0, 0, 0, 0, 0]]\n",
      "\n",
      "attention_mask:\n",
      "<class 'list'>\n",
      "[[1, 1, 1, 1, 1, 1, 1, 1, 1, 1, 1, 1, 1, 1, 1, 1, 1, 1, 1, 1], [1, 1, 1, 1, 1, 1, 1, 1, 1, 1, 1, 0, 0, 0, 0, 0, 0, 0, 0, 0]]\n",
      "\n"
     ]
    }
   ],
   "source": [
    "labels = 'original'\n",
    "\n",
    "hate_speech[\"train\"] = preprocess_dataset(hate_speech[\"train\"], tokenizer, labels)\n",
    "hate_speech[\"val\"] = preprocess_dataset(hate_speech[\"val\"], tokenizer,labels)\n",
    "hate_speech[\"test\"] = preprocess_dataset(hate_speech[\"test\"], tokenizer, labels)\n",
    "\n",
    "# Visualize the preprocessed dataset\n",
    "for k, v in hate_speech[\"val\"][:2].items(): \n",
    "    print(\"{}:\\n{}\\n{}\\n\".format(k, type(v),\n",
    "                                 [item[:20] if isinstance(item, Iterable) else \n",
    "                                 item for item in v[:5]]))"
   ]
  },
  {
   "cell_type": "code",
   "execution_count": 5,
   "metadata": {},
   "outputs": [
    {
     "name": "stderr",
     "output_type": "stream",
     "text": [
      "Loading cached processed dataset at /Users/junzeli/.cache/huggingface/datasets/hatexplain/plain_text/1.0.0/df474d8d8667d89ef30649bf66e9c856ad8305bef4bc147e8e31cbdf1b8e0249/cache-f2e32ec8db681754.arrow\n",
      "Loading cached processed dataset at /Users/junzeli/.cache/huggingface/datasets/hatexplain/plain_text/1.0.0/df474d8d8667d89ef30649bf66e9c856ad8305bef4bc147e8e31cbdf1b8e0249/cache-3d584c012c544534.arrow\n",
      "Loading cached processed dataset at /Users/junzeli/.cache/huggingface/datasets/hatexplain/plain_text/1.0.0/df474d8d8667d89ef30649bf66e9c856ad8305bef4bc147e8e31cbdf1b8e0249/cache-bd8b4bf850370dff.arrow\n"
     ]
    },
    {
     "data": {
      "application/vnd.jupyter.widget-view+json": {
       "model_id": "0d8251e78ce74c7795643fcab0104cac",
       "version_major": 2,
       "version_minor": 0
      },
      "text/plain": [
       "Map:   0%|          | 0/1922 [00:00<?, ? examples/s]"
      ]
     },
     "metadata": {},
     "output_type": "display_data"
    },
    {
     "data": {
      "application/vnd.jupyter.widget-view+json": {
       "model_id": "e5ca1260e5c544fab93f14a786c17e04",
       "version_major": 2,
       "version_minor": 0
      },
      "text/plain": [
       "Map:   0%|          | 0/1922 [00:00<?, ? examples/s]"
      ]
     },
     "metadata": {},
     "output_type": "display_data"
    },
    {
     "data": {
      "application/vnd.jupyter.widget-view+json": {
       "model_id": "0f65a805bd5149168c6d5e8a2966cbc3",
       "version_major": 2,
       "version_minor": 0
      },
      "text/plain": [
       "Map:   0%|          | 0/1922 [00:00<?, ? examples/s]"
      ]
     },
     "metadata": {},
     "output_type": "display_data"
    },
    {
     "data": {
      "application/vnd.jupyter.widget-view+json": {
       "model_id": "ad0cecfbe452474d99eaf1ddaf01ca2c",
       "version_major": 2,
       "version_minor": 0
      },
      "text/plain": [
       "Map:   0%|          | 0/1924 [00:00<?, ? examples/s]"
      ]
     },
     "metadata": {},
     "output_type": "display_data"
    },
    {
     "data": {
      "application/vnd.jupyter.widget-view+json": {
       "model_id": "c1e5bd10184c454f896d9354037e792b",
       "version_major": 2,
       "version_minor": 0
      },
      "text/plain": [
       "Map:   0%|          | 0/1924 [00:00<?, ? examples/s]"
      ]
     },
     "metadata": {},
     "output_type": "display_data"
    },
    {
     "data": {
      "application/vnd.jupyter.widget-view+json": {
       "model_id": "56098a91d3f64a3eba48cfb087675db7",
       "version_major": 2,
       "version_minor": 0
      },
      "text/plain": [
       "Map:   0%|          | 0/1924 [00:00<?, ? examples/s]"
      ]
     },
     "metadata": {},
     "output_type": "display_data"
    }
   ],
   "source": [
    "labels = 'original'\n",
    "\n",
    "hatexplain[\"train\"] = preprocess_dataset_hatexplain(hatexplain[\"train\"], tokenizer, labels)\n",
    "hatexplain[\"validation\"] = preprocess_dataset_hatexplain(hatexplain[\"validation\"], tokenizer, labels)\n",
    "hatexplain[\"test\"] = preprocess_dataset_hatexplain(hatexplain[\"test\"], tokenizer, labels)"
   ]
  },
  {
   "cell_type": "code",
   "execution_count": 6,
   "metadata": {},
   "outputs": [],
   "source": [
    "def read_result(file):\n",
    "    with open(file, 'rb') as f:\n",
    "        object = pickle.load(f)\n",
    "    return object"
   ]
  },
  {
   "cell_type": "code",
   "execution_count": 13,
   "metadata": {},
   "outputs": [],
   "source": [
    "obj = read_result('test_results.p')"
   ]
  },
  {
   "cell_type": "code",
   "execution_count": 14,
   "metadata": {},
   "outputs": [
    {
     "data": {
      "text/plain": [
       "4957"
      ]
     },
     "execution_count": 14,
     "metadata": {},
     "output_type": "execute_result"
    }
   ],
   "source": [
    "texts = np.array(hate_speech['test']['tweet'])\n",
    "true_labels = np.array(hate_speech['test']['labels'])\n",
    "len(true_labels)"
   ]
  },
  {
   "cell_type": "code",
   "execution_count": 15,
   "metadata": {},
   "outputs": [
    {
     "data": {
      "text/plain": [
       "4957"
      ]
     },
     "execution_count": 15,
     "metadata": {},
     "output_type": "execute_result"
    }
   ],
   "source": [
    "pred_labels = obj[0].argmax(axis=1)\n",
    "len(pred_labels)"
   ]
  },
  {
   "cell_type": "code",
   "execution_count": 26,
   "metadata": {},
   "outputs": [
    {
     "data": {
      "text/plain": [
       "280"
      ]
     },
     "execution_count": 26,
     "metadata": {},
     "output_type": "execute_result"
    }
   ],
   "source": [
    "sum(np.array(hate_speech['test']['labels']) == 0)"
   ]
  },
  {
   "cell_type": "code",
   "execution_count": 32,
   "metadata": {},
   "outputs": [
    {
     "data": {
      "text/plain": [
       "array([[   1.,  202.,   77.],\n",
       "       [   0., 3643.,  237.],\n",
       "       [   0.,   60.,  737.]])"
      ]
     },
     "execution_count": 32,
     "metadata": {},
     "output_type": "execute_result"
    }
   ],
   "source": [
    "np.set_printoptions(suppress=True)\n",
    "\n",
    "cm = np.zeros((3,3))\n",
    "for i in range(cm.shape[0]):\n",
    "    for j in range(cm.shape[1]):\n",
    "        cm[i][j] = int(sum((true_labels == i) & (pred_labels == j)))\n",
    "cm"
   ]
  },
  {
   "cell_type": "code",
   "execution_count": 37,
   "metadata": {},
   "outputs": [
    {
     "data": {
      "text/plain": [
       "Text(50.722222222222214, 0.5, 'true')"
      ]
     },
     "execution_count": 37,
     "metadata": {},
     "output_type": "execute_result"
    },
    {
     "data": {
      "image/png": "[encoded data removed]",
      "text/plain": [
       "<Figure size 640x480 with 2 Axes>"
      ]
     },
     "metadata": {},
     "output_type": "display_data"
    }
   ],
   "source": [
    "import seaborn as sn\n",
    "import matplotlib.pyplot as plt\n",
    "\n",
    "sn.heatmap(cm, annot=True, fmt='g')\n",
    "plt.xlabel('pred', fontsize = 15) # x-axis label with fontsize 15\n",
    "plt.ylabel('true', fontsize = 15) # y-axis label with fontsize 15"
   ]
  },
  {
   "cell_type": "code",
   "execution_count": 44,
   "metadata": {},
   "outputs": [
    {
     "data": {
      "text/plain": [
       "4957"
      ]
     },
     "execution_count": 44,
     "metadata": {},
     "output_type": "execute_result"
    }
   ],
   "source": [
    "demo_arr = np.array(hate_speech['test']['demo_props'])\n",
    "demo_l = []\n",
    "\n",
    "for d in demo_arr:\n",
    "    if any(d>0.6):\n",
    "        demo_l.append(np.argmax(d))\n",
    "    else:\n",
    "        demo_l.append(-1)\n",
    "demos = np.array(demo_l)\n",
    "len(demos)"
   ]
  },
  {
   "cell_type": "code",
   "execution_count": 45,
   "metadata": {},
   "outputs": [],
   "source": [
    "np.set_printoptions(suppress=True)\n",
    "\n",
    "cm_aa, cm_his, cm_as, cm_wh = np.zeros((3,3)), np.zeros((3,3)), np.zeros((3,3)), np.zeros((3,3))\n",
    "\n",
    "for i in range(cm.shape[0]):\n",
    "    for j in range(cm.shape[1]):\n",
    "        cm_aa[i][j] = int(sum((true_labels == i) & (pred_labels == j) & (demos == 0)))\n",
    "        cm_his[i][j] = int(sum((true_labels == i) & (pred_labels == j) & (demos == 1)))\n",
    "        cm_as[i][j] = int(sum((true_labels == i) & (pred_labels == j) & (demos == 2)))\n",
    "        cm_wh[i][j] = int(sum((true_labels == i) & (pred_labels == j) & (demos == 3)))"
   ]
  },
  {
   "cell_type": "code",
   "execution_count": 46,
   "metadata": {},
   "outputs": [
    {
     "data": {
      "text/plain": [
       "Text(50.722222222222214, 0.5, 'true')"
      ]
     },
     "execution_count": 46,
     "metadata": {},
     "output_type": "execute_result"
    },
    {
     "data": {
      "image/png": "[encoded data removed]",
      "text/plain": [
       "<Figure size 640x480 with 2 Axes>"
      ]
     },
     "metadata": {},
     "output_type": "display_data"
    }
   ],
   "source": [
    "sn.heatmap(cm_aa, annot=True, fmt='g')\n",
    "plt.xlabel('pred', fontsize = 15) # x-axis label with fontsize 15\n",
    "plt.ylabel('true', fontsize = 15) # y-axis label with fontsize 15"
   ]
  },
  {
   "cell_type": "code",
   "execution_count": 47,
   "metadata": {},
   "outputs": [
    {
     "data": {
      "text/plain": [
       "Text(50.722222222222214, 0.5, 'true')"
      ]
     },
     "execution_count": 47,
     "metadata": {},
     "output_type": "execute_result"
    },
    {
     "data": {
      "image/png": "[encoded data removed]",
      "text/plain": [
       "<Figure size 640x480 with 2 Axes>"
      ]
     },
     "metadata": {},
     "output_type": "display_data"
    }
   ],
   "source": [
    "sn.heatmap(cm_his, annot=True, fmt='g')\n",
    "plt.xlabel('pred', fontsize = 15) # x-axis label with fontsize 15\n",
    "plt.ylabel('true', fontsize = 15) # y-axis label with fontsize 15"
   ]
  },
  {
   "cell_type": "code",
   "execution_count": 48,
   "metadata": {},
   "outputs": [
    {
     "data": {
      "text/plain": [
       "Text(50.722222222222214, 0.5, 'true')"
      ]
     },
     "execution_count": 48,
     "metadata": {},
     "output_type": "execute_result"
    },
    {
     "data": {
      "image/png": "[encoded data removed]",
      "text/plain": [
       "<Figure size 640x480 with 2 Axes>"
      ]
     },
     "metadata": {},
     "output_type": "display_data"
    }
   ],
   "source": [
    "sn.heatmap(cm_as, annot=True, fmt='g')\n",
    "plt.xlabel('pred', fontsize = 15) # x-axis label with fontsize 15\n",
    "plt.ylabel('true', fontsize = 15) # y-axis label with fontsize 15"
   ]
  },
  {
   "cell_type": "code",
   "execution_count": 49,
   "metadata": {},
   "outputs": [
    {
     "data": {
      "text/plain": [
       "Text(50.722222222222214, 0.5, 'true')"
      ]
     },
     "execution_count": 49,
     "metadata": {},
     "output_type": "execute_result"
    },
    {
     "data": {
      "image/png": "[encoded data removed]",
      "text/plain": [
       "<Figure size 640x480 with 2 Axes>"
      ]
     },
     "metadata": {},
     "output_type": "display_data"
    }
   ],
   "source": [
    "sn.heatmap(cm_wh, annot=True, fmt='g')\n",
    "plt.xlabel('pred', fontsize = 15) # x-axis label with fontsize 15\n",
    "plt.ylabel('true', fontsize = 15) # y-axis label with fontsize 15"
   ]
  },
  {
   "cell_type": "code",
   "execution_count": 8,
   "metadata": {},
   "outputs": [],
   "source": [
    "obj = read_result('test_results_hatexplain.p')"
   ]
  },
  {
   "cell_type": "code",
   "execution_count": 10,
   "metadata": {},
   "outputs": [
    {
     "data": {
      "text/plain": [
       "15383"
      ]
     },
     "execution_count": 10,
     "metadata": {},
     "output_type": "execute_result"
    }
   ],
   "source": [
    "true_labels = np.array(hatexplain['train']['labels'])\n",
    "len(true_labels)"
   ]
  },
  {
   "cell_type": "code",
   "execution_count": 11,
   "metadata": {},
   "outputs": [
    {
     "data": {
      "text/plain": [
       "15383"
      ]
     },
     "execution_count": 11,
     "metadata": {},
     "output_type": "execute_result"
    }
   ],
   "source": [
    "pred_labels = obj[0].argmax(axis=1)\n",
    "len(pred_labels)"
   ]
  },
  {
   "cell_type": "code",
   "execution_count": 13,
   "metadata": {},
   "outputs": [
    {
     "data": {
      "text/plain": [
       "array([[   5., 2338., 2405.],\n",
       "       [   1., 2518., 3732.],\n",
       "       [   1., 2283., 2100.]])"
      ]
     },
     "execution_count": 13,
     "metadata": {},
     "output_type": "execute_result"
    }
   ],
   "source": [
    "np.set_printoptions(suppress=True)\n",
    "\n",
    "cm = np.zeros((3,3))\n",
    "for i in range(cm.shape[0]):\n",
    "    for j in range(cm.shape[1]):\n",
    "        cm[i][j] = int(sum((true_labels == i) & (pred_labels == j)))\n",
    "cm"
   ]
  },
  {
   "cell_type": "code",
   "execution_count": 14,
   "metadata": {},
   "outputs": [
    {
     "data": {
      "text/plain": [
       "Text(50.722222222222214, 0.5, 'true')"
      ]
     },
     "execution_count": 14,
     "metadata": {},
     "output_type": "execute_result"
    },
    {
     "data": {
      "image/png": "[encoded data removed]",
      "text/plain": [
       "<Figure size 640x480 with 2 Axes>"
      ]
     },
     "metadata": {},
     "output_type": "display_data"
    }
   ],
   "source": [
    "import seaborn as sn\n",
    "import matplotlib.pyplot as plt\n",
    "\n",
    "sn.heatmap(cm, annot=True, fmt='g')\n",
    "plt.xlabel('pred', fontsize = 15) # x-axis label with fontsize 15\n",
    "plt.ylabel('true', fontsize = 15) # y-axis label with fontsize 15"
   ]
  },
  {
   "cell_type": "code",
   "execution_count": 15,
   "metadata": {},
   "outputs": [
    {
     "data": {
      "text/plain": [
       "15383"
      ]
     },
     "execution_count": 15,
     "metadata": {},
     "output_type": "execute_result"
    }
   ],
   "source": [
    "demo_arr = np.array(hatexplain['train']['demo_props'])\n",
    "demo_l = []\n",
    "\n",
    "for d in demo_arr:\n",
    "    if any(d>0.6):\n",
    "        demo_l.append(np.argmax(d))\n",
    "    else:\n",
    "        demo_l.append(-1)\n",
    "demos = np.array(demo_l)\n",
    "len(demos)"
   ]
  },
  {
   "cell_type": "code",
   "execution_count": 16,
   "metadata": {},
   "outputs": [],
   "source": [
    "np.set_printoptions(suppress=True)\n",
    "\n",
    "cm_aa, cm_his, cm_as, cm_wh = np.zeros((3,3)), np.zeros((3,3)), np.zeros((3,3)), np.zeros((3,3))\n",
    "\n",
    "for i in range(cm.shape[0]):\n",
    "    for j in range(cm.shape[1]):\n",
    "        cm_aa[i][j] = int(sum((true_labels == i) & (pred_labels == j) & (demos == 0)))\n",
    "        cm_his[i][j] = int(sum((true_labels == i) & (pred_labels == j) & (demos == 1)))\n",
    "        cm_as[i][j] = int(sum((true_labels == i) & (pred_labels == j) & (demos == 2)))\n",
    "        cm_wh[i][j] = int(sum((true_labels == i) & (pred_labels == j) & (demos == 3)))"
   ]
  },
  {
   "cell_type": "code",
   "execution_count": 17,
   "metadata": {},
   "outputs": [
    {
     "data": {
      "text/plain": [
       "Text(50.722222222222214, 0.5, 'true')"
      ]
     },
     "execution_count": 17,
     "metadata": {},
     "output_type": "execute_result"
    },
    {
     "data": {
      "image/png": "[encoded data removed]",
      "text/plain": [
       "<Figure size 640x480 with 2 Axes>"
      ]
     },
     "metadata": {},
     "output_type": "display_data"
    }
   ],
   "source": [
    "sn.heatmap(cm_aa, annot=True, fmt='g')\n",
    "plt.xlabel('pred', fontsize = 15) # x-axis label with fontsize 15\n",
    "plt.ylabel('true', fontsize = 15) # y-axis label with fontsize 15"
   ]
  },
  {
   "cell_type": "code",
   "execution_count": 18,
   "metadata": {},
   "outputs": [
    {
     "data": {
      "text/plain": [
       "Text(50.722222222222214, 0.5, 'true')"
      ]
     },
     "execution_count": 18,
     "metadata": {},
     "output_type": "execute_result"
    },
    {
     "data": {
      "image/png": "[encoded data removed]",
      "text/plain": [
       "<Figure size 640x480 with 2 Axes>"
      ]
     },
     "metadata": {},
     "output_type": "display_data"
    }
   ],
   "source": [
    "sn.heatmap(cm_his, annot=True, fmt='g')\n",
    "plt.xlabel('pred', fontsize = 15) # x-axis label with fontsize 15\n",
    "plt.ylabel('true', fontsize = 15) # y-axis label with fontsize 15"
   ]
  },
  {
   "cell_type": "code",
   "execution_count": 19,
   "metadata": {},
   "outputs": [
    {
     "data": {
      "text/plain": [
       "Text(50.722222222222214, 0.5, 'true')"
      ]
     },
     "execution_count": 19,
     "metadata": {},
     "output_type": "execute_result"
    },
    {
     "data": {
      "image/png": "[encoded data removed]",
      "text/plain": [
       "<Figure size 640x480 with 2 Axes>"
      ]
     },
     "metadata": {},
     "output_type": "display_data"
    }
   ],
   "source": [
    "sn.heatmap(cm_wh, annot=True, fmt='g')\n",
    "plt.xlabel('pred', fontsize = 15) # x-axis label with fontsize 15\n",
    "plt.ylabel('true', fontsize = 15) # y-axis label with fontsize 15"
   ]
  },
  {
   "cell_type": "code",
   "execution_count": 21,
   "metadata": {},
   "outputs": [
    {
     "data": {
      "text/plain": [
       "Text(50.722222222222214, 0.5, 'true')"
      ]
     },
     "execution_count": 21,
     "metadata": {},
     "output_type": "execute_result"
    },
    {
     "data": {
      "image/png": "[encoded data removed]",
      "text/plain": [
       "<Figure size 640x480 with 2 Axes>"
      ]
     },
     "metadata": {},
     "output_type": "display_data"
    }
   ],
   "source": [
    "sn.heatmap(cm_as, annot=True, fmt='g')\n",
    "plt.xlabel('pred', fontsize = 15) # x-axis label with fontsize 15\n",
    "plt.ylabel('true', fontsize = 15) # y-axis label with fontsize 15"
   ]
  },
  {
   "cell_type": "code",
   "execution_count": null,
   "metadata": {},
   "outputs": [],
   "source": []
  }
 ],
 "metadata": {
  "kernelspec": {
   "display_name": "Python 3.9.12 ('base')",
   "language": "python",
   "name": "python3"
  },
  "language_info": {
   "codemirror_mode": {
    "name": "ipython",
    "version": 3
   },
   "file_extension": ".py",
   "mimetype": "text/x-python",
   "name": "python",
   "nbconvert_exporter": "python",
   "pygments_lexer": "ipython3",
   "version": "3.9.12"
  },
  "orig_nbformat": 4,
  "vscode": {
   "interpreter": {
    "hash": "9bece8a4ae55facad4a9f75626b6157080e84d45cc8667e9d052a17ecde009f2"
   }
  }
 },
 "nbformat": 4,
 "nbformat_minor": 2
}

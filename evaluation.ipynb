{
 "cells": [
  {
   "cell_type": "code",
   "execution_count": 1,
   "metadata": {},
   "outputs": [
    {
     "name": "stderr",
     "output_type": "stream",
     "text": [
      "/opt/anaconda3/envs/nlu/lib/python3.10/site-packages/tqdm/auto.py:21: TqdmWarning: IProgress not found. Please update jupyter and ipywidgets. See https://ipywidgets.readthedocs.io/en/stable/user_install.html\n",
      "  from .autonotebook import tqdm as notebook_tqdm\n"
     ]
    }
   ],
   "source": [
    "from collections.abc import Iterable\n",
    "from datasets import load_dataset, concatenate_datasets \n",
    "from train_model import preprocess_dataset, preprocess_dataset_hatexplain\n",
    "from transformers import AutoTokenizer\n",
    "from evaluation import Evaluation"
   ]
  },
  {
   "cell_type": "code",
   "execution_count": 2,
   "metadata": {},
   "outputs": [
    {
     "name": "stderr",
     "output_type": "stream",
     "text": [
      "Found cached dataset hate_speech_offensive (/Users/jiayuansong/.cache/huggingface/datasets/hate_speech_offensive/default/1.0.0/5f5dfc7b42b5c650fe30a8c49df90b7dbb9c7a4b3fe43ae2e66fabfea35113f5)\n",
      "100%|██████████| 1/1 [00:00<00:00, 106.53it/s]\n",
      "Found cached dataset hatexplain (/Users/jiayuansong/.cache/huggingface/datasets/hatexplain/plain_text/1.0.0/df474d8d8667d89ef30649bf66e9c856ad8305bef4bc147e8e31cbdf1b8e0249)\n",
      "100%|██████████| 3/3 [00:00<00:00, 108.74it/s]\n",
      "emoji is not installed, thus not converting emoticons or emojis into text. Install emoji: pip3 install emoji==0.6.0\n",
      "Special tokens have been added in the vocabulary, make sure the associated word embeddings are fine-tuned or trained.\n",
      "Loading cached processed dataset at /Users/jiayuansong/.cache/huggingface/datasets/hate_speech_offensive/default/1.0.0/5f5dfc7b42b5c650fe30a8c49df90b7dbb9c7a4b3fe43ae2e66fabfea35113f5/cache-8c91b5f7b3a54cb1.arrow\n",
      "Loading cached processed dataset at /Users/jiayuansong/.cache/huggingface/datasets/hate_speech_offensive/default/1.0.0/5f5dfc7b42b5c650fe30a8c49df90b7dbb9c7a4b3fe43ae2e66fabfea35113f5/cache-0576f20607d462a5.arrow\n",
      "Loading cached processed dataset at /Users/jiayuansong/.cache/huggingface/datasets/hate_speech_offensive/default/1.0.0/5f5dfc7b42b5c650fe30a8c49df90b7dbb9c7a4b3fe43ae2e66fabfea35113f5/cache-cb8737d330f76fae.arrow\n",
      "Loading cached processed dataset at /Users/jiayuansong/.cache/huggingface/datasets/hatexplain/plain_text/1.0.0/df474d8d8667d89ef30649bf66e9c856ad8305bef4bc147e8e31cbdf1b8e0249/cache-0a9736273adb5fb1.arrow\n",
      "Loading cached processed dataset at /Users/jiayuansong/.cache/huggingface/datasets/hatexplain/plain_text/1.0.0/df474d8d8667d89ef30649bf66e9c856ad8305bef4bc147e8e31cbdf1b8e0249/cache-9779f963d40484a6.arrow\n",
      "Loading cached processed dataset at /Users/jiayuansong/.cache/huggingface/datasets/hatexplain/plain_text/1.0.0/df474d8d8667d89ef30649bf66e9c856ad8305bef4bc147e8e31cbdf1b8e0249/cache-21bb299f474f8095.arrow\n",
      "Loading cached processed dataset at /Users/jiayuansong/.cache/huggingface/datasets/hatexplain/plain_text/1.0.0/df474d8d8667d89ef30649bf66e9c856ad8305bef4bc147e8e31cbdf1b8e0249/cache-bcad8349766e5d3a.arrow\n",
      "Loading cached processed dataset at /Users/jiayuansong/.cache/huggingface/datasets/hatexplain/plain_text/1.0.0/df474d8d8667d89ef30649bf66e9c856ad8305bef4bc147e8e31cbdf1b8e0249/cache-7f350b4a4e12424e.arrow\n",
      "Loading cached processed dataset at /Users/jiayuansong/.cache/huggingface/datasets/hatexplain/plain_text/1.0.0/df474d8d8667d89ef30649bf66e9c856ad8305bef4bc147e8e31cbdf1b8e0249/cache-039d096cc814115a.arrow\n",
      "Loading cached processed dataset at /Users/jiayuansong/.cache/huggingface/datasets/hatexplain/plain_text/1.0.0/df474d8d8667d89ef30649bf66e9c856ad8305bef4bc147e8e31cbdf1b8e0249/cache-82dfd7f87ca9b998.arrow\n",
      "Loading cached processed dataset at /Users/jiayuansong/.cache/huggingface/datasets/hatexplain/plain_text/1.0.0/df474d8d8667d89ef30649bf66e9c856ad8305bef4bc147e8e31cbdf1b8e0249/cache-0341ef3ba8cd78e7.arrow\n",
      "Loading cached processed dataset at /Users/jiayuansong/.cache/huggingface/datasets/hatexplain/plain_text/1.0.0/df474d8d8667d89ef30649bf66e9c856ad8305bef4bc147e8e31cbdf1b8e0249/cache-923dcb1467b7d30c.arrow\n",
      "Loading cached processed dataset at /Users/jiayuansong/.cache/huggingface/datasets/hatexplain/plain_text/1.0.0/df474d8d8667d89ef30649bf66e9c856ad8305bef4bc147e8e31cbdf1b8e0249/cache-5dc1a960fc8378c0.arrow\n",
      "                                                                 \r"
     ]
    }
   ],
   "source": [
    "model_name = \"vinai/bertweet-base\"\n",
    "labels = 'original'\n",
    "hate_speech = load_dataset(\"hate_speech_offensive\")\n",
    "hatexplain = load_dataset(\"hatexplain\")\n",
    "\n",
    "tokenizer = AutoTokenizer.from_pretrained(model_name)\n",
    "\n",
    "hate_speech[\"train\"] = preprocess_dataset(hate_speech[\"train\"], tokenizer, labels)\n",
    "hatexplain[\"train\"] = preprocess_dataset_hatexplain(hatexplain[\"train\"], tokenizer, labels)\n",
    "hatexplain[\"validation\"] = preprocess_dataset_hatexplain(hatexplain[\"validation\"], tokenizer, labels)\n",
    "hatexplain[\"test\"] = preprocess_dataset_hatexplain(hatexplain[\"test\"], tokenizer, labels)\n",
    "bert_dataset = concatenate_datasets([hatexplain['train'], hatexplain['validation'], hatexplain['test'], hate_speech['train']])\n",
    "split = bert_dataset.train_test_split(.2, seed=3463) "
   ]
  },
  {
   "cell_type": "code",
   "execution_count": 8,
   "metadata": {},
   "outputs": [],
   "source": [
    "threshold = 0.6 \n",
    "white = 'non_aae'"
   ]
  },
  {
   "cell_type": "markdown",
   "metadata": {},
   "source": [
    "### Baseline"
   ]
  },
  {
   "cell_type": "code",
   "execution_count": 9,
   "metadata": {},
   "outputs": [],
   "source": [
    "eval = Evaluation('test_results_base.p', split['test'], threshold, white)"
   ]
  },
  {
   "cell_type": "code",
   "execution_count": 10,
   "metadata": {},
   "outputs": [
    {
     "data": {
      "text/plain": [
       "{'EOD': {'EOD_1': -0.13753706654832265,\n",
       "  'EOD_2': 0.38416894264533746,\n",
       "  'EOD_comb': -0.036173611531706173},\n",
       " 'SPD': {'SPD_1': -0.3625594581767705,\n",
       "  'SPD_2': 0.23097201555339072,\n",
       "  'SPD_comb': -0.13158744262337985},\n",
       " 'DI': {'DI_non': 0.0889282361273533,\n",
       "  'DI_tox_1': 1.6100395071809404,\n",
       "  'DI_tox_2': 0.11588726751200858,\n",
       "  'DI_tox_comb': 1.153801173655725},\n",
       " 'AOD': {'AOD_1': -0.32704938090103286,\n",
       "  'AOD_2': 0.26389587538212333,\n",
       "  'AOD_comb': -0.25185086415302704}}"
      ]
     },
     "execution_count": 10,
     "metadata": {},
     "output_type": "execute_result"
    }
   ],
   "source": [
    "eval.eval()"
   ]
  },
  {
   "cell_type": "markdown",
   "metadata": {},
   "source": [
    "### Debiased "
   ]
  },
  {
   "cell_type": "code",
   "execution_count": 11,
   "metadata": {},
   "outputs": [],
   "source": [
    "eval = Evaluation('test_results_debias.p', split['test'], threshold, white) "
   ]
  },
  {
   "cell_type": "code",
   "execution_count": 12,
   "metadata": {},
   "outputs": [
    {
     "data": {
      "text/plain": [
       "{'EOD': {'EOD_1': -0.08496125090087525,\n",
       "  'EOD_2': 0.39502861230329045,\n",
       "  'EOD_comb': -0.07016988674217184},\n",
       " 'SPD': {'SPD_1': -0.34986220095466136,\n",
       "  'SPD_2': 0.16413977592935552,\n",
       "  'SPD_comb': -0.18572242502530578},\n",
       " 'DI': {'DI_non': 0.08991291980928623,\n",
       "  'DI_tox_1': 1.5644189826319397,\n",
       "  'DI_tox_2': 0.06773925497561174,\n",
       "  'DI_tox_comb': 1.2333404567877804},\n",
       " 'AOD': {'AOD_1': -0.3162665390889764,\n",
       "  'AOD_2': 0.22312348480397895,\n",
       "  'AOD_comb': -0.3169944911097794}}"
      ]
     },
     "execution_count": 12,
     "metadata": {},
     "output_type": "execute_result"
    }
   ],
   "source": [
    "eval.eval()"
   ]
  },
  {
   "cell_type": "code",
   "execution_count": null,
   "metadata": {},
   "outputs": [],
   "source": []
  }
 ],
 "metadata": {
  "interpreter": {
   "hash": "e0262c2e7a08424d65c968f8ecfc5afb6b5a99089f86fd0fa27478ea619b0ef2"
  },
  "kernelspec": {
   "display_name": "Python 3.10.10 ('nlu')",
   "language": "python",
   "name": "python3"
  },
  "language_info": {
   "codemirror_mode": {
    "name": "ipython",
    "version": 3
   },
   "file_extension": ".py",
   "mimetype": "text/x-python",
   "name": "python",
   "nbconvert_exporter": "python",
   "pygments_lexer": "ipython3",
   "version": "3.10.10"
  },
  "orig_nbformat": 4
 },
 "nbformat": 4,
 "nbformat_minor": 2
}
